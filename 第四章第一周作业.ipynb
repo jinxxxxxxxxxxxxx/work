{
 "cells": [
  {
   "cell_type": "markdown",
   "id": "9b3514f9",
   "metadata": {},
   "source": [
    "# course4 week1作业: 搭建卷积神经网络模型以及应用（1&2）"
   ]
  },
  {
   "cell_type": "code",
   "execution_count": 1,
   "id": "b2cfccca",
   "metadata": {},
   "outputs": [],
   "source": [
    "%matplotlib inline\n",
    "\n",
    "import numpy as np\n",
    "import h5py\n",
    "import math\n",
    "import matplotlib.pyplot as plt\n",
    "import matplotlib.image as mpimg\n",
    "import tensorflow.compat.v1 as tf\n",
    "import tensorflow as tf2\n",
    "from tensorflow.python.framework import ops\n",
    "\n",
    "import cnn_utils"
   ]
  },
  {
   "cell_type": "code",
   "execution_count": 2,
   "id": "3aba82e4",
   "metadata": {},
   "outputs": [],
   "source": [
    "plt.rcParams['figure.figsize'] = (5.0, 4.0) \n",
    "plt.rcParams['image.interpolation'] = 'nearest'\n",
    "plt.rcParams['image.cmap'] = 'gray'\n",
    "\n",
    "np.random.seed(1)\n",
    "tf.compat.v1.disable_eager_execution()"
   ]
  },
  {
   "cell_type": "markdown",
   "id": "e4f5ee76",
   "metadata": {},
   "source": [
    "## 1.神经网络的底层搭建"
   ]
  },
  {
   "cell_type": "markdown",
   "id": "465daa39",
   "metadata": {},
   "source": [
    "### 1.1 卷积层"
   ]
  },
  {
   "cell_type": "markdown",
   "id": "d2e2ae89",
   "metadata": {},
   "source": [
    "#### 边界填充"
   ]
  },
  {
   "cell_type": "code",
   "execution_count": 3,
   "id": "2de03062",
   "metadata": {},
   "outputs": [],
   "source": [
    "# 边界填充0\n",
    "def zero_pad(X, pad):\n",
    "    \n",
    "    X_paded = np.pad(X,(\n",
    "                        (0, 0),       #样本数，不填充\n",
    "                        (pad, pad),   #图像高度,你可以视为上面填充x个，下面填充y个(x,y)\n",
    "                        (pad, pad),   #图像宽度,你可以视为左边填充x个，右边填充y个(x,y)\n",
    "                        (0, 0)),      #通道数，不填充\n",
    "                        'constant', constant_values=0)      #连续一样的值填充\n",
    "    \n",
    "    return X_paded"
   ]
  },
  {
   "cell_type": "code",
   "execution_count": 4,
   "id": "4cdbb054",
   "metadata": {},
   "outputs": [
    {
     "data": {
      "text/plain": [
       "<matplotlib.image.AxesImage at 0x2550a9f5808>"
      ]
     },
     "execution_count": 4,
     "metadata": {},
     "output_type": "execute_result"
    },
    {
     "data": {
      "image/png": "[encoded data removed]",
      "text/plain": [
       "<Figure size 360x288 with 2 Axes>"
      ]
     },
     "metadata": {
      "needs_background": "light"
     },
     "output_type": "display_data"
    }
   ],
   "source": [
    "# 测试\n",
    "x = np.random.randn(1, 3, 3, 1)\n",
    "x_paded = zero_pad(x,1)\n",
    "\n",
    "fig, axarr = plt.subplots(1,2)  #一行两列\n",
    "axarr[0].set_title('x')\n",
    "axarr[0].imshow(x[0])\n",
    "axarr[1].set_title('x_paded')\n",
    "axarr[1].imshow(x_paded[0])"
   ]
  },
  {
   "cell_type": "markdown",
   "id": "6cbdc379",
   "metadata": {},
   "source": [
    "#### 单步卷积"
   ]
  },
  {
   "cell_type": "code",
   "execution_count": 5,
   "id": "876ba7d4",
   "metadata": {},
   "outputs": [],
   "source": [
    "# 卷积过程中的一次运算, 返回一个数\n",
    "def conv_single_step(a_slice_prev, W, b):\n",
    "\n",
    "    s = np.multiply(a_slice_prev, W) + b\n",
    "    \n",
    "    Z = np.sum(s)\n",
    "    \n",
    "    return Z"
   ]
  },
  {
   "cell_type": "code",
   "execution_count": 6,
   "id": "c244873b",
   "metadata": {},
   "outputs": [
    {
     "name": "stdout",
     "output_type": "stream",
     "text": [
      "Z = 1.1481703136184853\n"
     ]
    }
   ],
   "source": [
    "# 测试\n",
    "#这里切片大小和过滤器大小相同\n",
    "a_slice_prev = np.random.randn(4,4,3)\n",
    "W = np.random.randn(4,4,3)\n",
    "b = np.random.randn(1,1,1)\n",
    "\n",
    "Z = conv_single_step(a_slice_prev,W,b)\n",
    "\n",
    "print(\"Z = \" + str(Z))"
   ]
  },
  {
   "cell_type": "markdown",
   "id": "2fcce79e",
   "metadata": {},
   "source": [
    "#### 卷积前向传播"
   ]
  },
  {
   "cell_type": "code",
   "execution_count": 7,
   "id": "71a9fa6e",
   "metadata": {},
   "outputs": [],
   "source": [
    "def conv_forward(A_prev, W, b, hparameters):\n",
    "    \"\"\"\n",
    "    实现卷积函数的前向传播\n",
    "    \n",
    "    参数：\n",
    "        A_prev - 上一层的激活输出矩阵，维度为(m, n_H_prev, n_W_prev, n_C_prev)，（样本数量，上一层图像的高度，上一层图像的宽度，上一层过滤器数量）\n",
    "        W - 权重矩阵，维度为(f, f, n_C_prev, n_C)，（过滤器大小，过滤器大小，上一层的过滤器数量，这一层的过滤器数量）\n",
    "        b - 偏置矩阵，维度为(1, 1, 1, n_C)，（1,1,1,这一层的过滤器数量）\n",
    "        hparameters - 包含了\"stride\"与 \"pad\"的超参数字典。\n",
    "    \n",
    "    返回：\n",
    "        Z - 卷积输出，维度为(m, n_H, n_W, n_C)，（样本数，图像的高度，图像的宽度，过滤器数量）\n",
    "        cache - 缓存了一些反向传播函数conv_backward()需要的一些数据\n",
    "    \"\"\"\n",
    "    \n",
    "    #获取来自上一层数据的基本信息\n",
    "    (m , n_H_prev , n_W_prev , n_C_prev) = A_prev.shape\n",
    "    \n",
    "    #获取权重矩阵的基本信息\n",
    "    ( f , f ,n_C_prev , n_C ) = W.shape\n",
    "    \n",
    "    #获取超参数hparameters的值\n",
    "    stride = hparameters[\"stride\"]\n",
    "    pad = hparameters[\"pad\"]\n",
    "    \n",
    "    #计算卷积后的图像的宽度高度，参考上面的公式，使用int()来进行板除\n",
    "    n_H = int(( n_H_prev - f + 2 * pad )/ stride) + 1\n",
    "    n_W = int(( n_W_prev - f + 2 * pad )/ stride) + 1\n",
    "    \n",
    "    #使用0来初始化卷积输出Z\n",
    "    Z = np.zeros((m,n_H,n_W,n_C))\n",
    "    \n",
    "    #通过A_prev创建填充过了的A_prev_pad\n",
    "    A_prev_pad = zero_pad(A_prev,pad)\n",
    "    \n",
    "    for i in range(m):                              #遍历样本\n",
    "        a_prev_pad = A_prev_pad[i]                  #选择第i个样本的扩充后的激活矩阵\n",
    "        for h in range(n_H):                        #在输出的垂直轴上循环\n",
    "            for w in range(n_W):                    #在输出的水平轴上循环\n",
    "                for c in range(n_C):                #循环遍历输出的通道\n",
    "                    #定位当前的切片位置\n",
    "                    vert_start = h * stride         #竖向，开始的位置\n",
    "                    vert_end = vert_start + f       #竖向，结束的位置\n",
    "                    horiz_start = w * stride        #横向，开始的位置\n",
    "                    horiz_end = horiz_start + f     #横向，结束的位置\n",
    "                    #切片位置定位好了我们就把它取出来,需要注意的是我们是“穿透”取出来的，\n",
    "                    #自行脑补一下吸管插入一层层的橡皮泥就明白了\n",
    "                    a_slice_prev = a_prev_pad[vert_start:vert_end,horiz_start:horiz_end,:]\n",
    "                    #执行单步卷积\n",
    "                    Z[i,h,w,c] = conv_single_step(a_slice_prev,W[: ,: ,: ,c],b[0,0,0,c])\n",
    "      \n",
    "    #数据处理完毕，验证数据格式是否正确\n",
    "    assert(Z.shape == (m , n_H , n_W , n_C ))\n",
    "    \n",
    "    #存储一些缓存值，以便于反向传播使用\n",
    "    cache = (A_prev,W,b,hparameters)\n",
    "    \n",
    "    return (Z , cache)"
   ]
  },
  {
   "cell_type": "code",
   "execution_count": 8,
   "id": "39af967f",
   "metadata": {},
   "outputs": [
    {
     "name": "stdout",
     "output_type": "stream",
     "text": [
      "np.mean(Z) =  0.15585932488906465\n",
      "cache_conv[0][1][2][3] = [-0.20075807  0.18656139  0.41005165]\n"
     ]
    }
   ],
   "source": [
    "# 测试\n",
    "np.random.seed(1)\n",
    "\n",
    "A_prev = np.random.randn(10,4,4,3)\n",
    "W = np.random.randn(2,2,3,8)\n",
    "b = np.random.randn(1,1,1,8)\n",
    "\n",
    "hparameters = {\"pad\" : 2, \"stride\": 1}\n",
    "\n",
    "Z , cache_conv = conv_forward(A_prev,W,b,hparameters)\n",
    "\n",
    "print(\"np.mean(Z) = \", np.mean(Z))\n",
    "print(\"cache_conv[0][1][2][3] =\", cache_conv[0][1][2][3])"
   ]
  },
  {
   "cell_type": "markdown",
   "id": "79474b52",
   "metadata": {},
   "source": [
    "### 1.2 池化层"
   ]
  },
  {
   "cell_type": "code",
   "execution_count": 9,
   "id": "c009f2b6",
   "metadata": {},
   "outputs": [],
   "source": [
    "def pool_forward(A_prev,hparameters,mode=\"max\"):\n",
    "    \"\"\"\n",
    "    实现池化层的前向传播\n",
    "    \n",
    "    参数：\n",
    "        A_prev - 输入数据，维度为(m, n_H_prev, n_W_prev, n_C_prev)\n",
    "        hparameters - 包含了 \"f\" 和 \"stride\"的超参数字典\n",
    "        mode - 模式选择【\"max\" | \"average\"】\n",
    "        \n",
    "    返回：\n",
    "        A - 池化层的输出，维度为 (m, n_H, n_W, n_C)\n",
    "        cache - 存储了一些反向传播需要用到的值，包含了输入和超参数的字典。\n",
    "    \"\"\"\n",
    "    \n",
    "    #获取输入数据的基本信息\n",
    "    (m , n_H_prev , n_W_prev , n_C_prev) = A_prev.shape\n",
    "    \n",
    "    #获取超参数的信息\n",
    "    f = hparameters[\"f\"]\n",
    "    stride = hparameters[\"stride\"]\n",
    "    \n",
    "    #计算输出维度\n",
    "    n_H = int((n_H_prev - f) / stride ) + 1\n",
    "    n_W = int((n_W_prev - f) / stride ) + 1\n",
    "    n_C = n_C_prev\n",
    "    \n",
    "    #初始化输出矩阵\n",
    "    A = np.zeros((m , n_H , n_W , n_C))\n",
    "    \n",
    "    for i in range(m):                              #遍历样本\n",
    "        for h in range(n_H):                        #在输出的垂直轴上循环\n",
    "            for w in range(n_W):                    #在输出的水平轴上循环\n",
    "                for c in range(n_C):                #循环遍历输出的通道\n",
    "                    #定位当前的切片位置\n",
    "                    vert_start = h * stride         #竖向，开始的位置\n",
    "                    vert_end = vert_start + f       #竖向，结束的位置\n",
    "                    horiz_start = w * stride        #横向，开始的位置\n",
    "                    horiz_end = horiz_start + f     #横向，结束的位置\n",
    "                    #定位完毕，开始切割\n",
    "                    a_slice_prev = A_prev[i,vert_start:vert_end,horiz_start:horiz_end,c]\n",
    "                    \n",
    "                    #对切片进行池化操作\n",
    "                    if mode == \"max\":\n",
    "                        A[ i , h , w , c ] = np.max(a_slice_prev)\n",
    "                    elif mode == \"average\":\n",
    "                        A[ i , h , w , c ] = np.mean(a_slice_prev)\n",
    "                        \n",
    "    #池化完毕，校验数据格式\n",
    "    assert(A.shape == (m , n_H , n_W , n_C))\n",
    "    \n",
    "    #校验完毕，开始存储用于反向传播的值\n",
    "    cache = (A_prev,hparameters)\n",
    "    \n",
    "    return A,cache\n"
   ]
  },
  {
   "cell_type": "code",
   "execution_count": 10,
   "id": "78257541",
   "metadata": {},
   "outputs": [
    {
     "name": "stdout",
     "output_type": "stream",
     "text": [
      "mode = max\n",
      "A = [[[[1.74481176 1.6924546  2.10025514]]]\n",
      "\n",
      "\n",
      " [[[1.19891788 1.51981682 2.18557541]]]]\n",
      "----------------------------\n",
      "mode = average\n",
      "A = [[[[-0.09498456  0.11180064 -0.14263511]]]\n",
      "\n",
      "\n",
      " [[[-0.09525108  0.28325018  0.33035185]]]]\n"
     ]
    }
   ],
   "source": [
    "# 测试\n",
    "np.random.seed(1)\n",
    "A_prev = np.random.randn(2,4,4,3)\n",
    "hparameters = {\"f\":4 , \"stride\":1}\n",
    "\n",
    "A , cache = pool_forward(A_prev,hparameters,mode=\"max\")\n",
    "A, cache = pool_forward(A_prev, hparameters)\n",
    "print(\"mode = max\")\n",
    "print(\"A =\", A)\n",
    "print(\"----------------------------\")\n",
    "A, cache = pool_forward(A_prev, hparameters, mode = \"average\")\n",
    "print(\"mode = average\")\n",
    "print(\"A =\", A)"
   ]
  },
  {
   "cell_type": "markdown",
   "id": "e49acd57",
   "metadata": {},
   "source": [
    "### 1.3 卷积层的反向传播"
   ]
  },
  {
   "cell_type": "code",
   "execution_count": 11,
   "id": "0a93db3d",
   "metadata": {},
   "outputs": [],
   "source": [
    "def conv_backward(dZ,cache):\n",
    "    \"\"\"\n",
    "    实现卷积层的反向传播\n",
    "    \n",
    "    参数：\n",
    "        dZ - 卷积层的输出Z的 梯度，维度为(m, n_H, n_W, n_C)\n",
    "        cache - 反向传播所需要的参数，conv_forward()的输出之一\n",
    "        \n",
    "    返回：\n",
    "        dA_prev - 卷积层的输入（A_prev）的梯度值，维度为(m, n_H_prev, n_W_prev, n_C_prev)\n",
    "        dW - 卷积层的权值的梯度，维度为(f,f,n_C_prev,n_C)\n",
    "        db - 卷积层的偏置的梯度，维度为（1,1,1,n_C）\n",
    "    \n",
    "    \"\"\"\n",
    "    #获取cache的值\n",
    "    (A_prev, W, b, hparameters) = cache\n",
    "    \n",
    "    #获取A_prev的基本信息\n",
    "    (m, n_H_prev, n_W_prev, n_C_prev) = A_prev.shape\n",
    "    \n",
    "    #获取dZ的基本信息\n",
    "    (m,n_H,n_W,n_C) = dZ.shape\n",
    "    \n",
    "    #获取权值的基本信息\n",
    "    (f, f, n_C_prev, n_C) = W.shape\n",
    "    \n",
    "    #获取hparaeters的值\n",
    "    pad = hparameters[\"pad\"]\n",
    "    stride = hparameters[\"stride\"]\n",
    "    \n",
    "    #初始化各个梯度的结构\n",
    "    dA_prev = np.zeros((m,n_H_prev,n_W_prev,n_C_prev))\n",
    "    dW = np.zeros((f,f,n_C_prev,n_C))\n",
    "    db = np.zeros((1,1,1,n_C))\n",
    "    \n",
    "    #前向传播中我们使用了pad，反向传播也需要使用，这是为了保证数据结构一致\n",
    "    A_prev_pad = zero_pad(A_prev,pad)\n",
    "    dA_prev_pad = zero_pad(dA_prev,pad)\n",
    "    \n",
    "    #现在处理数据\n",
    "    for i in range(m):\n",
    "        #选择第i个扩充了的数据的样本,降了一维。\n",
    "        a_prev_pad = A_prev_pad[i]\n",
    "        da_prev_pad = dA_prev_pad[i]\n",
    "        \n",
    "        for h in range(n_H):\n",
    "            for w in range(n_W):\n",
    "                for c in range(n_C):\n",
    "                    #定位切片位置\n",
    "                    vert_start = h\n",
    "                    vert_end = vert_start + f\n",
    "                    horiz_start = w\n",
    "                    horiz_end = horiz_start + f\n",
    "                    \n",
    "                    #定位完毕，开始切片\n",
    "                    a_slice = a_prev_pad[vert_start:vert_end,horiz_start:horiz_end,:]\n",
    "                    \n",
    "                    #切片完毕，使用上面的公式计算梯度\n",
    "                    da_prev_pad[vert_start:vert_end, horiz_start:horiz_end,:] += W[:,:,:,c] * dZ[i, h, w, c]\n",
    "                    dW[:,:,:,c] += a_slice * dZ[i,h,w,c]\n",
    "                    db[:,:,:,c] += dZ[i,h,w,c]\n",
    "        #设置第i个样本最终的dA_prev,即把非填充的数据取出来。\n",
    "        dA_prev[i,:,:,:] = da_prev_pad[pad:-pad, pad:-pad, :]\n",
    "    \n",
    "    #数据处理完毕，验证数据格式是否正确\n",
    "    assert(dA_prev.shape == (m, n_H_prev, n_W_prev, n_C_prev))\n",
    "    \n",
    "    return (dA_prev,dW,db)"
   ]
  },
  {
   "cell_type": "code",
   "execution_count": 12,
   "id": "e398fac9",
   "metadata": {},
   "outputs": [
    {
     "name": "stdout",
     "output_type": "stream",
     "text": [
      "dA_mean = 9.608990675868995\n",
      "dW_mean = 10.581741275547566\n",
      "db_mean = 76.37106919563735\n"
     ]
    }
   ],
   "source": [
    "# 测试\n",
    "np.random.seed(1)\n",
    "#初始化参数\n",
    "A_prev = np.random.randn(10,4,4,3)\n",
    "W = np.random.randn(2,2,3,8)\n",
    "b = np.random.randn(1,1,1,8)\n",
    "hparameters = {\"pad\" : 2, \"stride\": 1}\n",
    "\n",
    "#前向传播\n",
    "Z , cache_conv = conv_forward(A_prev,W,b,hparameters)\n",
    "#反向传播\n",
    "dA , dW , db = conv_backward(Z,cache_conv)\n",
    "print(\"dA_mean =\", np.mean(dA))\n",
    "print(\"dW_mean =\", np.mean(dW))\n",
    "print(\"db_mean =\", np.mean(db))"
   ]
  },
  {
   "cell_type": "markdown",
   "id": "b0ecab35",
   "metadata": {},
   "source": [
    "### 1.4 池化层的反向传播"
   ]
  },
  {
   "cell_type": "code",
   "execution_count": 13,
   "id": "f95de054",
   "metadata": {},
   "outputs": [],
   "source": [
    "def create_mask_from_window(x):\n",
    "    \"\"\"\n",
    "    从输入矩阵中创建掩码，以保存最大值的矩阵的位置。\n",
    "    \n",
    "    参数：\n",
    "        x - 一个维度为(f,f)的矩阵\n",
    "        \n",
    "    返回：\n",
    "        mask - 包含x的最大值的位置的矩阵\n",
    "    \"\"\"\n",
    "    mask = x == np.max(x)\n",
    "    \n",
    "    return mask"
   ]
  },
  {
   "cell_type": "code",
   "execution_count": 14,
   "id": "f5f4bbae",
   "metadata": {},
   "outputs": [],
   "source": [
    "def distribute_value(dz,shape):\n",
    "    \"\"\"\n",
    "    给定一个值，为按矩阵大小平均分配到每一个矩阵位置中。\n",
    "    \n",
    "    参数：\n",
    "        dz - 输入的实数\n",
    "        shape - 元组，两个值，分别为n_H , n_W\n",
    "        \n",
    "    返回：\n",
    "        a - 已经分配好了值的矩阵，里面的值全部一样。\n",
    "    \n",
    "    \"\"\"\n",
    "    #获取矩阵的大小\n",
    "    (n_H , n_W) = shape\n",
    "    \n",
    "    #计算平均值\n",
    "    average = dz / (n_H * n_W)\n",
    "    \n",
    "    #填充入矩阵\n",
    "    a = np.ones(shape) * average\n",
    "    \n",
    "    return a"
   ]
  },
  {
   "cell_type": "code",
   "execution_count": 15,
   "id": "4090e73c",
   "metadata": {},
   "outputs": [],
   "source": [
    "def pool_backward(dA,cache,mode = \"max\"):\n",
    "    \"\"\"\n",
    "    实现池化层的反向传播\n",
    "    \n",
    "    参数:\n",
    "        dA - 池化层的输出的梯度，和池化层的输出的维度一样\n",
    "        cache - 池化层前向传播时所存储的参数。\n",
    "        mode - 模式选择，【\"max\" | \"average\"】\n",
    "        \n",
    "    返回：\n",
    "        dA_prev - 池化层的输入的梯度，和A_prev的维度相同\n",
    "    \n",
    "    \"\"\"\n",
    "    #获取cache中的值\n",
    "    (A_prev , hparaeters) = cache\n",
    "    \n",
    "    #获取hparaeters的值\n",
    "    f = hparaeters[\"f\"]\n",
    "    stride = hparaeters[\"stride\"]\n",
    "    \n",
    "    #获取A_prev和dA的基本信息\n",
    "    (m , n_H_prev , n_W_prev , n_C_prev) = A_prev.shape\n",
    "    (m , n_H , n_W , n_C) = dA.shape\n",
    "    \n",
    "    #初始化输出的结构\n",
    "    dA_prev = np.zeros_like(A_prev)\n",
    "    \n",
    "    #开始处理数据\n",
    "    for i in range(m):\n",
    "        a_prev = A_prev[i]      \n",
    "        for h in range(n_H):\n",
    "            for w in range(n_W):\n",
    "                for c in range(n_C):\n",
    "                    #定位切片位置\n",
    "                    vert_start = h\n",
    "                    vert_end = vert_start + f\n",
    "                    horiz_start = w\n",
    "                    horiz_end = horiz_start + f\n",
    "                    \n",
    "                    #选择反向传播的计算方式\n",
    "                    if mode == \"max\":\n",
    "                        #开始切片\n",
    "                        a_prev_slice = a_prev[vert_start:vert_end,horiz_start:horiz_end,c]\n",
    "                        #创建掩码\n",
    "                        mask = create_mask_from_window(a_prev_slice)\n",
    "                        #计算dA_prev\n",
    "                        dA_prev[i,vert_start:vert_end,horiz_start:horiz_end,c] += np.multiply(mask,dA[i,h,w,c])\n",
    "    \n",
    "                    elif mode == \"average\":\n",
    "                        #获取dA的值\n",
    "                        da = dA[i,h,w,c]\n",
    "                        #定义过滤器大小\n",
    "                        shape = (f,f)\n",
    "                        #平均分配\n",
    "                        dA_prev[i,vert_start:vert_end, horiz_start:horiz_end ,c] += distribute_value(da,shape)\n",
    "    #数据处理完毕，开始验证格式\n",
    "    assert(dA_prev.shape == A_prev.shape)\n",
    "    \n",
    "    return dA_prev"
   ]
  },
  {
   "cell_type": "code",
   "execution_count": 16,
   "id": "e17ffba5",
   "metadata": {},
   "outputs": [
    {
     "name": "stdout",
     "output_type": "stream",
     "text": [
      "mode = max\n",
      "mean of dA =  0.14571390272918056\n",
      "dA_prev[1,1] =  [[ 0.          0.        ]\n",
      " [ 5.05844394 -1.68282702]\n",
      " [ 0.          0.        ]]\n",
      "\n",
      "mode = average\n",
      "mean of dA =  0.14571390272918056\n",
      "dA_prev[1,1] =  [[ 0.08485462  0.2787552 ]\n",
      " [ 1.26461098 -0.25749373]\n",
      " [ 1.17975636 -0.53624893]]\n"
     ]
    }
   ],
   "source": [
    "# 测试\n",
    "np.random.seed(1)\n",
    "A_prev = np.random.randn(5, 5, 3, 2)\n",
    "hparameters = {\"stride\" : 1, \"f\": 2}\n",
    "A, cache = pool_forward(A_prev, hparameters)\n",
    "dA = np.random.randn(5, 4, 2, 2)\n",
    "\n",
    "dA_prev = pool_backward(dA, cache, mode = \"max\")\n",
    "print(\"mode = max\")\n",
    "print('mean of dA = ', np.mean(dA))\n",
    "print('dA_prev[1,1] = ', dA_prev[1,1])  \n",
    "print()\n",
    "dA_prev = pool_backward(dA, cache, mode = \"average\")\n",
    "print(\"mode = average\")\n",
    "print('mean of dA = ', np.mean(dA))\n",
    "print('dA_prev[1,1] = ', dA_prev[1,1]) "
   ]
  },
  {
   "cell_type": "markdown",
   "id": "618534ff",
   "metadata": {},
   "source": [
    "## 2.卷积神经网络的应用"
   ]
  },
  {
   "cell_type": "markdown",
   "id": "8928ec5d",
   "metadata": {},
   "source": [
    "### 导入数据集"
   ]
  },
  {
   "cell_type": "code",
   "execution_count": 17,
   "id": "2062a4e9",
   "metadata": {},
   "outputs": [],
   "source": [
    "X_train_orig, Y_train_orig, X_test_orig, Y_test_orig, classes = cnn_utils.load_dataset()"
   ]
  },
  {
   "cell_type": "code",
   "execution_count": 18,
   "id": "da696cb0",
   "metadata": {},
   "outputs": [
    {
     "name": "stdout",
     "output_type": "stream",
     "text": [
      "number of training examples = 1080\n",
      "number of test examples = 120\n",
      "X_train shape: (1080, 64, 64, 3)\n",
      "Y_train shape: (1080, 6)\n",
      "X_test shape: (120, 64, 64, 3)\n",
      "Y_test shape: (120, 6)\n"
     ]
    }
   ],
   "source": [
    "X_train = X_train_orig/255.\n",
    "X_test = X_test_orig/255.\n",
    "Y_train = cnn_utils.convert_to_one_hot(Y_train_orig, 6).T\n",
    "Y_test = cnn_utils.convert_to_one_hot(Y_test_orig, 6).T\n",
    "print (\"number of training examples = \" + str(X_train.shape[0]))\n",
    "print (\"number of test examples = \" + str(X_test.shape[0]))\n",
    "print (\"X_train shape: \" + str(X_train.shape))\n",
    "print (\"Y_train shape: \" + str(Y_train.shape))\n",
    "print (\"X_test shape: \" + str(X_test.shape))\n",
    "print (\"Y_test shape: \" + str(Y_test.shape))\n",
    "conv_layers = {}"
   ]
  },
  {
   "cell_type": "code",
   "execution_count": 19,
   "id": "89083d56",
   "metadata": {},
   "outputs": [
    {
     "name": "stdout",
     "output_type": "stream",
     "text": [
      "y = 2\n"
     ]
    },
    {
     "data": {
      "image/png": "[encoded data removed]",
      "text/plain": [
       "<Figure size 360x288 with 1 Axes>"
      ]
     },
     "metadata": {
      "needs_background": "light"
     },
     "output_type": "display_data"
    }
   ],
   "source": [
    "index = 6\n",
    "plt.imshow(X_train_orig[index])\n",
    "print (\"y = \" + str(np.squeeze(Y_train_orig[:, index])))"
   ]
  },
  {
   "cell_type": "markdown",
   "id": "f4f64b14",
   "metadata": {},
   "source": [
    "### 创建placeholders"
   ]
  },
  {
   "cell_type": "code",
   "execution_count": 20,
   "id": "6900da6d",
   "metadata": {},
   "outputs": [],
   "source": [
    "def create_placeholders(n_H0, n_W0, n_C0, n_y):\n",
    "    \"\"\"\n",
    "    为session创建占位符\n",
    "    \n",
    "    参数：\n",
    "        n_H0 - 实数，输入图像的高度\n",
    "        n_W0 - 实数，输入图像的宽度\n",
    "        n_C0 - 实数，输入的通道数\n",
    "        n_y  - 实数，分类数\n",
    "        \n",
    "    输出：\n",
    "        X - 输入数据的占位符，维度为[None, n_H0, n_W0, n_C0]，类型为\"float\"\n",
    "        Y - 输入数据的标签的占位符，维度为[None, n_y]，维度为\"float\"\n",
    "    \"\"\"\n",
    "    X = tf.placeholder(tf.float32,[None, n_H0, n_W0, n_C0])\n",
    "    Y = tf.placeholder(tf.float32,[None, n_y])\n",
    "    \n",
    "    return X,Y"
   ]
  },
  {
   "cell_type": "code",
   "execution_count": 21,
   "id": "1746d54a",
   "metadata": {},
   "outputs": [
    {
     "name": "stdout",
     "output_type": "stream",
     "text": [
      "X = Tensor(\"Placeholder:0\", shape=(None, 64, 64, 3), dtype=float32)\n",
      "Y = Tensor(\"Placeholder_1:0\", shape=(None, 6), dtype=float32)\n"
     ]
    }
   ],
   "source": [
    "X , Y = create_placeholders(64,64,3,6)\n",
    "print (\"X = \" + str(X))\n",
    "print (\"Y = \" + str(Y))"
   ]
  },
  {
   "cell_type": "markdown",
   "id": "14999bf4",
   "metadata": {},
   "source": [
    "### 初始化参数"
   ]
  },
  {
   "cell_type": "code",
   "execution_count": 22,
   "id": "32e98688",
   "metadata": {},
   "outputs": [],
   "source": [
    "def initialize_parameters():\n",
    "    \"\"\"\n",
    "    初始化权值矩阵，这里我们把权值矩阵硬编码：\n",
    "    W1 : [4, 4, 3, 8]\n",
    "    W2 : [2, 2, 8, 16]\n",
    "    \n",
    "    返回：\n",
    "        包含了tensor类型的W1、W2的字典\n",
    "    \"\"\"\n",
    "    tf.set_random_seed(1)\n",
    "    \n",
    "    W1 = tf.get_variable(\"W1\",[4,4,3,8],initializer=tf2.initializers.GlorotUniform(seed=1))\n",
    "    W2 = tf.get_variable(\"W2\",[2,2,8,16],initializer=tf2.initializers.GlorotUniform(seed=1))\n",
    "    \n",
    "    parameters = {\"W1\": W1,\n",
    "                  \"W2\": W2}\n",
    "    \n",
    "    return parameters"
   ]
  },
  {
   "cell_type": "code",
   "execution_count": 23,
   "id": "1427745e",
   "metadata": {},
   "outputs": [
    {
     "name": "stdout",
     "output_type": "stream",
     "text": [
      "W1 = [-0.07297277  0.04355428 -0.0658147   0.04896635  0.06719168  0.15787889\n",
      "  0.00253935  0.08261944]\n",
      "W2 = [ 0.1919449  -0.05628496 -0.1297453  -0.093014   -0.14830768  0.19019622\n",
      " -0.09055126  0.09372121 -0.03170478  0.08754992  0.07513338  0.1628921\n",
      "  0.00530177  0.07907039 -0.13447177 -0.22707456]\n"
     ]
    }
   ],
   "source": [
    "tf.reset_default_graph()\n",
    "with tf.Session() as sess_test:\n",
    "    parameters = initialize_parameters()\n",
    "    init = tf.global_variables_initializer()\n",
    "    sess_test.run(init)\n",
    "    print(\"W1 = \" + str(parameters[\"W1\"].eval()[1,1,1]))\n",
    "    print(\"W2 = \" + str(parameters[\"W2\"].eval()[1,1,1]))\n",
    "    \n",
    "    sess_test.close()"
   ]
  },
  {
   "cell_type": "markdown",
   "id": "ade372e9",
   "metadata": {},
   "source": [
    "### 前向传播"
   ]
  },
  {
   "cell_type": "code",
   "execution_count": 24,
   "id": "b885df79",
   "metadata": {},
   "outputs": [],
   "source": [
    "def forward_propagation(X,parameters):\n",
    "    \"\"\"\n",
    "    实现前向传播\n",
    "    CONV2D -> RELU -> MAXPOOL -> CONV2D -> RELU -> MAXPOOL -> FLATTEN -> FULLYCONNECTED\n",
    "    \n",
    "    参数：\n",
    "        X - 输入数据的placeholder，维度为(输入节点数量，样本数量)\n",
    "        parameters - 包含了“W1”和“W2”的python字典。\n",
    "        \n",
    "    返回：\n",
    "        Z3 - 最后一个LINEAR节点的输出\n",
    "    \n",
    "    \"\"\"\n",
    "    W1 = parameters['W1']\n",
    "    W2 = parameters['W2']\n",
    "    \n",
    "    #Conv2d : 步伐：1，填充方式：“SAME”\n",
    "    Z1 = tf.nn.conv2d(X,W1,strides=[1,1,1,1],padding=\"SAME\")\n",
    "    #ReLU ：\n",
    "    A1 = tf.nn.relu(Z1)\n",
    "    #Max pool : 窗口大小：8x8，步伐：8x8，填充方式：“SAME”\n",
    "    P1 = tf.nn.max_pool(A1,ksize=[1,8,8,1],strides=[1,8,8,1],padding=\"SAME\")\n",
    "    \n",
    "    #Conv2d : 步伐：1，填充方式：“SAME”\n",
    "    Z2 = tf.nn.conv2d(P1,W2,strides=[1,1,1,1],padding=\"SAME\")\n",
    "    #ReLU ：\n",
    "    A2 = tf.nn.relu(Z2)\n",
    "    #Max pool : 过滤器大小：4x4，步伐：4x4，填充方式：“SAME”\n",
    "    P2 = tf.nn.max_pool(A2,ksize=[1,4,4,1],strides=[1,4,4,1],padding=\"SAME\")\n",
    "    \n",
    "    #一维化上一层的输出\n",
    "    P = tf2.keras.layers.Flatten()(P2)\n",
    "    \n",
    "    \n",
    "    #全连接层（FC）：使用没有非线性激活函数的全连接层\n",
    "    Z3 = tf2.keras.layers.Dense(6, activation = None)(P)\n",
    "    \n",
    "    return Z3"
   ]
  },
  {
   "cell_type": "code",
   "execution_count": 25,
   "id": "62b843f5",
   "metadata": {},
   "outputs": [
    {
     "name": "stdout",
     "output_type": "stream",
     "text": [
      "Z3 = [[ 1.8350854  -1.3386946  -0.8136465  -0.8851701  -1.5463247  -0.59749883]\n",
      " [ 1.5327352  -1.1858613  -0.41286194 -0.8916607  -1.531162   -0.32889634]]\n"
     ]
    }
   ],
   "source": [
    "tf.reset_default_graph()\n",
    "np.random.seed(1)\n",
    "\n",
    "with tf.Session() as sess_test:\n",
    "    X,Y = create_placeholders(64,64,3,6)\n",
    "    parameters = initialize_parameters()\n",
    "    Z3 = forward_propagation(X,parameters)\n",
    "    \n",
    "    init = tf.global_variables_initializer()\n",
    "    sess_test.run(init)\n",
    "    \n",
    "    a = sess_test.run(Z3,{X: np.random.randn(2,64,64,3), Y: np.random.randn(2,6)})\n",
    "    print(\"Z3 = \" + str(a))\n",
    "    \n",
    "    sess_test.close()"
   ]
  },
  {
   "cell_type": "markdown",
   "id": "f20f7aa6",
   "metadata": {},
   "source": [
    "### 计算成本"
   ]
  },
  {
   "cell_type": "code",
   "execution_count": 26,
   "id": "ac64e707",
   "metadata": {},
   "outputs": [],
   "source": [
    "def compute_cost(Z3,Y):\n",
    "    \"\"\"\n",
    "    计算成本\n",
    "    参数：\n",
    "        Z3 - 正向传播最后一个LINEAR节点的输出，维度为（6，样本数）。\n",
    "        Y - 标签向量的placeholder，和Z3的维度相同\n",
    "    \n",
    "    返回：\n",
    "        cost - 计算后的成本\n",
    "    \n",
    "    \"\"\"\n",
    "    \n",
    "    cost = tf.reduce_mean(tf2.nn.softmax_cross_entropy_with_logits(logits=Z3,labels=Y))\n",
    "    \n",
    "    return cost"
   ]
  },
  {
   "cell_type": "code",
   "execution_count": 27,
   "id": "e4c9e5a9",
   "metadata": {},
   "outputs": [
    {
     "name": "stdout",
     "output_type": "stream",
     "text": [
      "cost = 3.2733786\n"
     ]
    }
   ],
   "source": [
    "tf.reset_default_graph()\n",
    "\n",
    "with tf.Session() as sess_test:\n",
    "    np.random.seed(1)\n",
    "    X,Y = create_placeholders(64,64,3,6)\n",
    "    parameters = initialize_parameters()\n",
    "    Z3 = forward_propagation(X,parameters)\n",
    "    cost = compute_cost(Z3,Y)\n",
    "    \n",
    "    init = tf.global_variables_initializer()\n",
    "    sess_test.run(init)\n",
    "    a = sess_test.run(cost,{X: np.random.randn(4,64,64,3), Y: np.random.randn(4,6)})\n",
    "    print(\"cost = \" + str(a))\n",
    "    \n",
    "    sess_test.close()"
   ]
  },
  {
   "cell_type": "markdown",
   "id": "3963b202",
   "metadata": {},
   "source": [
    "### 构建模型"
   ]
  },
  {
   "cell_type": "code",
   "execution_count": 28,
   "id": "d41c36fa",
   "metadata": {},
   "outputs": [],
   "source": [
    "def model(X_train, Y_train, X_test, Y_test, learning_rate=0.001, \n",
    "         num_epochs=300,minibatch_size=64,print_cost=True,isPlot=True):\n",
    "    \"\"\"\n",
    "    使用TensorFlow实现三层的卷积神经网络\n",
    "    CONV2D -> RELU -> MAXPOOL -> CONV2D -> RELU -> MAXPOOL -> FLATTEN -> FULLYCONNECTED\n",
    "    \n",
    "    参数：\n",
    "        X_train - 训练数据，维度为(None, 64, 64, 3)\n",
    "        Y_train - 训练数据对应的标签，维度为(None, n_y = 6)\n",
    "        X_test - 测试数据，维度为(None, 64, 64, 3)\n",
    "        Y_test - 训练数据对应的标签，维度为(None, n_y = 6)\n",
    "        learning_rate - 学习率\n",
    "        num_epochs - 遍历整个数据集的次数\n",
    "        minibatch_size - 每个小批量数据块的大小\n",
    "        print_cost - 是否打印成本值，每遍历100次整个数据集打印一次\n",
    "        isPlot - 是否绘制图谱\n",
    "        \n",
    "    返回：\n",
    "        train_accuracy - 实数，训练集的准确度\n",
    "        test_accuracy - 实数，测试集的准确度\n",
    "        parameters - 学习后的参数\n",
    "    \"\"\"\n",
    "    ops.reset_default_graph()  #能够重新运行模型而不覆盖tf变量\n",
    "    tf.set_random_seed(1)    #确保你的数据和我一样\n",
    "    seed = 3                 #指定numpy的随机种子\n",
    "    (m , n_H0, n_W0, n_C0) = X_train.shape\n",
    "    n_y = Y_train.shape[1]\n",
    "    costs = []\n",
    "    \n",
    "    #为当前维度创建占位符\n",
    "    X , Y = create_placeholders(n_H0, n_W0, n_C0, n_y)\n",
    "    \n",
    "    #初始化参数\n",
    "    parameters = initialize_parameters()\n",
    "    \n",
    "    #前向传播\n",
    "    Z3 = forward_propagation(X,parameters)\n",
    "    \n",
    "    #计算成本\n",
    "    cost = compute_cost(Z3,Y)\n",
    "    \n",
    "    #反向传播，由于框架已经实现了反向传播，我们只需要选择一个优化器就行了\n",
    "    optimizer = tf.train.AdamOptimizer(learning_rate=learning_rate).minimize(cost)\n",
    "    \n",
    "    #全局初始化所有变量\n",
    "    init = tf.global_variables_initializer()\n",
    "    \n",
    "    #开始运行\n",
    "    with tf.Session() as sess:\n",
    "        #初始化参数\n",
    "        sess.run(init)\n",
    "        #开始遍历数据集\n",
    "        for epoch in range(num_epochs):\n",
    "            minibatch_cost = 0\n",
    "            num_minibatches = int(m / minibatch_size) #获取数据块的数量\n",
    "            seed = seed + 1\n",
    "            minibatches = cnn_utils.random_mini_batches(X_train,Y_train,minibatch_size,seed) \n",
    "            \n",
    "            #对每个数据块进行处理\n",
    "            for minibatch in minibatches:\n",
    "                #选择一个数据块\n",
    "                (minibatch_X,minibatch_Y) = minibatch\n",
    "                #最小化这个数据块的成本\n",
    "                _ , temp_cost = sess.run([optimizer,cost],feed_dict={X:minibatch_X, Y:minibatch_Y})\n",
    "                \n",
    "                #累加数据块的成本值\n",
    "                minibatch_cost += temp_cost / num_minibatches\n",
    "    \n",
    "            #是否打印成本\n",
    "            if print_cost:\n",
    "                #每5代打印一次\n",
    "                if epoch % 5 == 0:\n",
    "                    print(\"当前是第 \" + str(epoch) + \" 代，成本值为：\" + str(minibatch_cost))\n",
    "            \n",
    "            #记录成本\n",
    "            if epoch % 1 == 0:\n",
    "                costs.append(minibatch_cost)\n",
    "        \n",
    "        #数据处理完毕，绘制成本曲线\n",
    "        if isPlot:\n",
    "            plt.plot(np.squeeze(costs))\n",
    "            plt.ylabel('cost')\n",
    "            plt.xlabel('iterations (per tens)')\n",
    "            plt.title(\"Learning rate =\" + str(learning_rate))\n",
    "            plt.show()\n",
    "        \n",
    "        #开始预测数据\n",
    "        ## 计算当前的预测情况\n",
    "        predict_op = tf.arg_max(Z3,1)\n",
    "        corrent_prediction = tf.equal(predict_op , tf.arg_max(Y,1))\n",
    "        \n",
    "        ##计算准确度\n",
    "        accuracy = tf.reduce_mean(tf.cast(corrent_prediction,\"float\"))\n",
    "        print(\"corrent_prediction accuracy= \" + str(accuracy))\n",
    "        \n",
    "        train_accuracy = accuracy.eval({X: X_train, Y: Y_train})\n",
    "        test_accuary = accuracy.eval({X: X_test, Y: Y_test})\n",
    "        \n",
    "        print(\"训练集准确度：\" + str(train_accuracy))\n",
    "        print(\"测试集准确度：\" + str(test_accuary))\n",
    "        \n",
    "        return (train_accuracy,test_accuary,parameters)"
   ]
  },
  {
   "cell_type": "code",
   "execution_count": 29,
   "id": "9fb812c9",
   "metadata": {},
   "outputs": [
    {
     "name": "stdout",
     "output_type": "stream",
     "text": [
      "当前是第 0 代，成本值为：1.909901887178421\n",
      "当前是第 5 代，成本值为：1.878505788743496\n",
      "当前是第 10 代，成本值为：1.8222763612866402\n",
      "当前是第 15 代，成本值为：1.6797729134559631\n",
      "当前是第 20 代，成本值为：1.4202640503644943\n",
      "当前是第 25 代，成本值为：1.184794120490551\n",
      "当前是第 30 代，成本值为：1.039752945303917\n",
      "当前是第 35 代，成本值为：0.9275178723037243\n",
      "当前是第 40 代，成本值为：0.8528881184756756\n",
      "当前是第 45 代，成本值为：0.7902398258447647\n",
      "当前是第 50 代，成本值为：0.7505367025732994\n",
      "当前是第 55 代，成本值为：0.6927653960883617\n",
      "当前是第 60 代，成本值为：0.6700228005647659\n",
      "当前是第 65 代，成本值为：0.6207378506660461\n",
      "当前是第 70 代，成本值为：0.6028911173343658\n",
      "当前是第 75 代，成本值为：0.5934940315783024\n",
      "当前是第 80 代，成本值为：0.5725158713757992\n",
      "当前是第 85 代，成本值为：0.5438237302005291\n",
      "当前是第 90 代，成本值为：0.5017271544784307\n",
      "当前是第 95 代，成本值为：0.481639726087451\n",
      "当前是第 100 代，成本值为：0.4919429048895836\n",
      "当前是第 105 代，成本值为：0.4588294867426157\n",
      "当前是第 110 代，成本值为：0.4371339464560151\n",
      "当前是第 115 代，成本值为：0.4224483482539654\n",
      "当前是第 120 代，成本值为：0.4007578343153\n",
      "当前是第 125 代，成本值为：0.4161729300394654\n",
      "当前是第 130 代，成本值为：0.3849397636950016\n",
      "当前是第 135 代，成本值为：0.3791448138654232\n",
      "当前是第 140 代，成本值为：0.3621750697493553\n",
      "当前是第 145 代，成本值为：0.3506601992994547\n"
     ]
    },
    {
     "data": {
      "image/png": "[encoded data removed]",
      "text/plain": [
       "<Figure size 360x288 with 1 Axes>"
      ]
     },
     "metadata": {
      "needs_background": "light"
     },
     "output_type": "display_data"
    },
    {
     "name": "stdout",
     "output_type": "stream",
     "text": [
      "corrent_prediction accuracy= Tensor(\"Mean_1:0\", shape=(), dtype=float32)\n",
      "训练集准确度：0.90185183\n",
      "测试集准确度：0.8333333\n"
     ]
    }
   ],
   "source": [
    "_, _, parameters = model(X_train, Y_train, X_test, Y_test,num_epochs=150)"
   ]
  },
  {
   "cell_type": "code",
   "execution_count": null,
   "id": "4f549456",
   "metadata": {},
   "outputs": [],
   "source": []
  }
 ],
 "metadata": {
  "kernelspec": {
   "display_name": "Python 3",
   "language": "python",
   "name": "python3"
  },
  "language_info": {
   "codemirror_mode": {
    "name": "ipython",
    "version": 3
   },
   "file_extension": ".py",
   "mimetype": "text/x-python",
   "name": "python",
   "nbconvert_exporter": "python",
   "pygments_lexer": "ipython3",
   "version": "3.7.6"
  }
 },
 "nbformat": 4,
 "nbformat_minor": 5
}
