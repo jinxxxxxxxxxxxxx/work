{
 "cells": [
  {
   "cell_type": "markdown",
   "id": "dc577148",
   "metadata": {},
   "source": [
    "# course4 第二周作业: Keras入门与残差网络的搭建"
   ]
  },
  {
   "cell_type": "markdown",
   "id": "66535b9b",
   "metadata": {},
   "source": [
    "## 一、Keras入门——笑脸识别"
   ]
  },
  {
   "cell_type": "code",
   "execution_count": 1,
   "id": "cd891fba",
   "metadata": {},
   "outputs": [],
   "source": [
    "import numpy as np\n",
    "from keras import layers\n",
    "from keras.layers import Input, Dense, Activation, ZeroPadding2D, BatchNormalization, Flatten, Conv2D\n",
    "from keras.layers import AveragePooling2D, MaxPooling2D, Dropout, GlobalMaxPooling2D, GlobalAveragePooling2D\n",
    "from keras.models import Model\n",
    "from keras.preprocessing import image\n",
    "from keras.utils import layer_utils\n",
    "from keras.utils.data_utils import get_file\n",
    "from keras.applications.imagenet_utils import preprocess_input\n",
    "import pydot\n",
    "from IPython.display import SVG\n",
    "from keras.utils.vis_utils import model_to_dot\n",
    "# from keras.utils import plot_model\n",
    "import kt_utils \n",
    "\n",
    "import keras.backend as K\n",
    "K.set_image_data_format('channels_last')\n",
    "import matplotlib.pyplot as plt\n",
    "from matplotlib.pyplot import imshow\n",
    "\n",
    "%matplotlib inline"
   ]
  },
  {
   "cell_type": "markdown",
   "id": "ca334b48",
   "metadata": {},
   "source": [
    "### 加载数据集"
   ]
  },
  {
   "cell_type": "code",
   "execution_count": 2,
   "id": "4abd463c",
   "metadata": {},
   "outputs": [
    {
     "name": "stdout",
     "output_type": "stream",
     "text": [
      "number of training examples = 600\n",
      "number of test examples = 150\n",
      "X_train shape: (600, 64, 64, 3)\n",
      "Y_train shape: (600, 1)\n",
      "X_test shape: (150, 64, 64, 3)\n",
      "Y_test shape: (150, 1)\n"
     ]
    }
   ],
   "source": [
    "X_train_orig, Y_train_orig, X_test_orig, Y_test_orig, classes = kt_utils.load_dataset()\n",
    "\n",
    "# Normalize image vectors\n",
    "X_train = X_train_orig/255.\n",
    "X_test = X_test_orig/255.\n",
    "\n",
    "# Reshape\n",
    "Y_train = Y_train_orig.T\n",
    "Y_test = Y_test_orig.T\n",
    "\n",
    "print (\"number of training examples = \" + str(X_train.shape[0]))\n",
    "print (\"number of test examples = \" + str(X_test.shape[0]))\n",
    "print (\"X_train shape: \" + str(X_train.shape))\n",
    "print (\"Y_train shape: \" + str(Y_train.shape))\n",
    "print (\"X_test shape: \" + str(X_test.shape))\n",
    "print (\"Y_test shape: \" + str(Y_test.shape))"
   ]
  },
  {
   "cell_type": "markdown",
   "id": "68d191d9",
   "metadata": {},
   "source": [
    "### 使用Keras构建模型"
   ]
  },
  {
   "cell_type": "code",
   "execution_count": 3,
   "id": "3aee8739",
   "metadata": {},
   "outputs": [],
   "source": [
    "def HappyModel(input_shape):\n",
    "\n",
    "    # 定义一个tensor的placeholder，维度为input_shape\n",
    "    X_input = Input(input_shape)\n",
    "\n",
    "    #使用0填充：X_input的周围填充0\n",
    "    X = ZeroPadding2D((3, 3))(X_input)\n",
    "\n",
    "    #对X使用 CONV -> BN -> RELU 块\n",
    "    X = Conv2D(32, (7, 7), strides=(1, 1), name='conv0')(X)\n",
    "    X = BatchNormalization(axis=3, name='bn0')(X)\n",
    "    X = Activation('relu')(X)\n",
    "\n",
    "    #最大值池化层\n",
    "    X = MaxPooling2D((2, 2), name='max_pool')(X)\n",
    "\n",
    "    #降维，矩阵转化为向量 + 全连接层\n",
    "    X = Flatten()(X)\n",
    "    X = Dense(1, activation='sigmoid', name='fc')(X)\n",
    "\n",
    "    #创建模型，讲话创建一个模型的实体，我们可以用它来训练、测试。\n",
    "    model = Model(inputs=X_input, outputs=X, name='HappyModel')\n",
    "\n",
    "    return model\n"
   ]
  },
  {
   "cell_type": "code",
   "execution_count": 4,
   "id": "3f6177c0",
   "metadata": {},
   "outputs": [
    {
     "name": "stdout",
     "output_type": "stream",
     "text": [
      "Epoch 1/40\n",
      "12/12 [==============================] - 17s 154ms/step - loss: 3.0594 - accuracy: 0.5242\n",
      "Epoch 2/40\n",
      "12/12 [==============================] - 2s 157ms/step - loss: 0.4930 - accuracy: 0.7910\n",
      "Epoch 3/40\n",
      "12/12 [==============================] - 2s 158ms/step - loss: 0.2147 - accuracy: 0.9028\n",
      "Epoch 4/40\n",
      "12/12 [==============================] - 2s 160ms/step - loss: 0.1753 - accuracy: 0.9362\n",
      "Epoch 5/40\n",
      "12/12 [==============================] - 2s 145ms/step - loss: 0.1407 - accuracy: 0.9477\n",
      "Epoch 6/40\n",
      "12/12 [==============================] - 2s 147ms/step - loss: 0.1069 - accuracy: 0.9601\n",
      "Epoch 7/40\n",
      "12/12 [==============================] - 2s 148ms/step - loss: 0.1009 - accuracy: 0.9598\n",
      "Epoch 8/40\n",
      "12/12 [==============================] - 2s 146ms/step - loss: 0.0740 - accuracy: 0.9877\n",
      "Epoch 9/40\n",
      "12/12 [==============================] - 2s 146ms/step - loss: 0.0723 - accuracy: 0.9848\n",
      "Epoch 10/40\n",
      "12/12 [==============================] - 2s 189ms/step - loss: 0.0638 - accuracy: 0.9820\n",
      "Epoch 11/40\n",
      "12/12 [==============================] - 2s 167ms/step - loss: 0.0906 - accuracy: 0.9714\n",
      "Epoch 12/40\n",
      "12/12 [==============================] - 2s 149ms/step - loss: 0.0796 - accuracy: 0.9700\n",
      "Epoch 13/40\n",
      "12/12 [==============================] - 2s 177ms/step - loss: 0.0700 - accuracy: 0.9811\n",
      "Epoch 14/40\n",
      "12/12 [==============================] - 2s 160ms/step - loss: 0.0431 - accuracy: 0.9897\n",
      "Epoch 15/40\n",
      "12/12 [==============================] - 2s 152ms/step - loss: 0.0381 - accuracy: 0.9925\n",
      "Epoch 16/40\n",
      "12/12 [==============================] - 2s 193ms/step - loss: 0.0416 - accuracy: 0.9913\n",
      "Epoch 17/40\n",
      "12/12 [==============================] - 2s 170ms/step - loss: 0.0378 - accuracy: 0.9922\n",
      "Epoch 18/40\n",
      "12/12 [==============================] - 2s 154ms/step - loss: 0.0305 - accuracy: 0.9937\n",
      "Epoch 19/40\n",
      "12/12 [==============================] - 2s 149ms/step - loss: 0.0312 - accuracy: 0.9916\n",
      "Epoch 20/40\n",
      "12/12 [==============================] - 2s 151ms/step - loss: 0.0674 - accuracy: 0.9807\n",
      "Epoch 21/40\n",
      "12/12 [==============================] - 2s 148ms/step - loss: 0.0359 - accuracy: 0.9899\n",
      "Epoch 22/40\n",
      "12/12 [==============================] - 2s 163ms/step - loss: 0.0320 - accuracy: 0.9898\n",
      "Epoch 23/40\n",
      "12/12 [==============================] - 2s 160ms/step - loss: 0.0388 - accuracy: 0.9867\n",
      "Epoch 24/40\n",
      "12/12 [==============================] - 2s 148ms/step - loss: 0.0370 - accuracy: 0.9893\n",
      "Epoch 25/40\n",
      "12/12 [==============================] - 2s 152ms/step - loss: 0.0149 - accuracy: 0.9947\n",
      "Epoch 26/40\n",
      "12/12 [==============================] - 2s 147ms/step - loss: 0.0243 - accuracy: 0.9931\n",
      "Epoch 27/40\n",
      "12/12 [==============================] - 2s 192ms/step - loss: 0.0205 - accuracy: 0.9958\n",
      "Epoch 28/40\n",
      "12/12 [==============================] - 2s 168ms/step - loss: 0.0160 - accuracy: 0.9968\n",
      "Epoch 29/40\n",
      "12/12 [==============================] - 2s 169ms/step - loss: 0.0210 - accuracy: 0.9962\n",
      "Epoch 30/40\n",
      "12/12 [==============================] - 2s 151ms/step - loss: 0.0173 - accuracy: 0.9960\n",
      "Epoch 31/40\n",
      "12/12 [==============================] - 2s 155ms/step - loss: 0.0205 - accuracy: 0.9935\n",
      "Epoch 32/40\n",
      "12/12 [==============================] - 2s 152ms/step - loss: 0.0241 - accuracy: 0.9945\n",
      "Epoch 33/40\n",
      "12/12 [==============================] - 2s 150ms/step - loss: 0.0211 - accuracy: 0.9922\n",
      "Epoch 34/40\n",
      "12/12 [==============================] - 2s 149ms/step - loss: 0.0207 - accuracy: 0.9966\n",
      "Epoch 35/40\n",
      "12/12 [==============================] - 2s 151ms/step - loss: 0.0150 - accuracy: 0.9962\n",
      "Epoch 36/40\n",
      "12/12 [==============================] - 2s 150ms/step - loss: 0.0191 - accuracy: 0.9970\n",
      "Epoch 37/40\n",
      "12/12 [==============================] - 2s 149ms/step - loss: 0.0130 - accuracy: 0.9985\n",
      "Epoch 38/40\n",
      "12/12 [==============================] - 2s 154ms/step - loss: 0.0124 - accuracy: 0.9989\n",
      "Epoch 39/40\n",
      "12/12 [==============================] - 2s 151ms/step - loss: 0.0142 - accuracy: 0.9975\n",
      "Epoch 40/40\n",
      "12/12 [==============================] - 2s 149ms/step - loss: 0.0243 - accuracy: 0.9955\n",
      "5/5 [==============================] - 0s 25ms/step - loss: 0.3106 - accuracy: 0.8800\n",
      "误差值 = 0.3105820417404175\n",
      "准确度 = 0.8799999952316284\n"
     ]
    }
   ],
   "source": [
    "#创建一个模型实体\n",
    "happy_model = HappyModel(X_train.shape[1:])\n",
    "#编译模型\n",
    "happy_model.compile(\"adam\",\"binary_crossentropy\", metrics=['accuracy'])\n",
    "#训练模型\n",
    "#请注意，此操作会花费你大约6-10分钟。\n",
    "happy_model.fit(X_train, Y_train, epochs=40, batch_size=50)\n",
    "#评估模型\n",
    "preds = happy_model.evaluate(X_test, Y_test, batch_size=32, verbose=1, sample_weight=None)\n",
    "print (\"误差值 = \" + str(preds[0]))\n",
    "print (\"准确度 = \" + str(preds[1]))"
   ]
  },
  {
   "cell_type": "markdown",
   "id": "fa137eb8",
   "metadata": {},
   "source": [
    "## 二、残差网络的搭建"
   ]
  },
  {
   "cell_type": "code",
   "execution_count": 8,
   "id": "7e3b3498",
   "metadata": {},
   "outputs": [],
   "source": [
    "import numpy as np\n",
    "import tensorflow.compat.v1 as tf\n",
    "import tensorflow as tf2\n",
    "\n",
    "from keras import layers\n",
    "from keras.layers import Input, Add, Dense, Activation, ZeroPadding2D, BatchNormalization, Flatten, Conv2D, AveragePooling2D, MaxPooling2D, GlobalMaxPooling2D\n",
    "from keras.models import Model, load_model\n",
    "from keras.preprocessing import image\n",
    "from keras.utils import layer_utils\n",
    "from keras.utils.data_utils import get_file\n",
    "from keras.applications.imagenet_utils import preprocess_input\n",
    "from keras.utils.vis_utils import model_to_dot\n",
    "# from keras.utils import plot_model\n",
    "from keras.initializers import glorot_uniform\n",
    "\n",
    "import pydot\n",
    "from IPython.display import SVG\n",
    "import scipy.misc\n",
    "from matplotlib.pyplot import imshow\n",
    "import keras.backend as K\n",
    "K.set_image_data_format('channels_last')\n",
    "K.set_learning_phase(1)\n",
    "\n",
    "import resnets_utils \n",
    "tf.compat.v1.disable_eager_execution()"
   ]
  },
  {
   "cell_type": "markdown",
   "id": "53f742bb",
   "metadata": {},
   "source": [
    "### 构建恒等块"
   ]
  },
  {
   "cell_type": "code",
   "execution_count": 9,
   "id": "a9c7ef38",
   "metadata": {},
   "outputs": [],
   "source": [
    "def identity_block(X, f, filters, stage, block):\n",
    "    \"\"\"\n",
    "    实现恒等块\n",
    "    x -> conv,bn,relu -> conv,bn,relu -> conv,bn -> +x -> relu\n",
    "    \n",
    "    参数：\n",
    "        X - 输入的tensor类型的数据，维度为( m, n_H_prev, n_W_prev, n_H_prev )\n",
    "        f - 整数，指定主路径中间的CONV窗口的维度\n",
    "        filters - 整数列表，定义了主路径每层的卷积层的过滤器数量\n",
    "        stage - 整数，根据每层的位置来命名每一层，与block参数一起使用。\n",
    "        block - 字符串，据每层的位置来命名每一层，与stage参数一起使用。\n",
    "        \n",
    "    返回：\n",
    "        X - 恒等块的输出，tensor类型，维度为(n_H, n_W, n_C)\n",
    "    \n",
    "    \"\"\"\n",
    "    \n",
    "    #定义命名规则\n",
    "    conv_name_base = \"res\" + str(stage) + block + \"_branch\"\n",
    "    bn_name_base   = \"bn\"  + str(stage) + block + \"_branch\"\n",
    "    \n",
    "    #获取过滤器\n",
    "    F1, F2, F3 = filters\n",
    "    \n",
    "    #保存输入数据，将会用于为主路径添加捷径\n",
    "    X_shortcut = X\n",
    "    \n",
    "    #主路径的第一部分\n",
    "    ##卷积层\n",
    "    X = Conv2D(filters=F1, kernel_size=(1,1), strides=(1,1) ,padding=\"valid\",\n",
    "               name=conv_name_base+\"2a\", kernel_initializer=glorot_uniform(seed=0))(X)\n",
    "    ##归一化\n",
    "    X = BatchNormalization(axis=3,name=bn_name_base+\"2a\")(X)\n",
    "    ##使用ReLU激活函数\n",
    "    X = Activation(\"relu\")(X)\n",
    "    \n",
    "    #主路径的第二部分\n",
    "    ##卷积层\n",
    "    X = Conv2D(filters=F2, kernel_size=(f,f),strides=(1,1), padding=\"same\",\n",
    "               name=conv_name_base+\"2b\", kernel_initializer=glorot_uniform(seed=0))(X)\n",
    "    ##归一化\n",
    "    X = BatchNormalization(axis=3,name=bn_name_base+\"2b\")(X)\n",
    "    ##使用ReLU激活函数\n",
    "    X = Activation(\"relu\")(X)\n",
    "    \n",
    "    \n",
    "    #主路径的第三部分\n",
    "    ##卷积层\n",
    "    X = Conv2D(filters=F3, kernel_size=(1,1), strides=(1,1), padding=\"valid\",\n",
    "               name=conv_name_base+\"2c\", kernel_initializer=glorot_uniform(seed=0))(X)\n",
    "    ##归一化\n",
    "    X = BatchNormalization(axis=3,name=bn_name_base+\"2c\")(X)\n",
    "    ##没有ReLU激活函数\n",
    "    \n",
    "    #最后一步：\n",
    "    ##将捷径与输入加在一起\n",
    "    X = Add()([X,X_shortcut])\n",
    "    ##使用ReLU激活函数\n",
    "    X = Activation(\"relu\")(X)\n",
    "    \n",
    "    return X"
   ]
  },
  {
   "cell_type": "code",
   "execution_count": 10,
   "id": "b3d8975d",
   "metadata": {},
   "outputs": [
    {
     "name": "stdout",
     "output_type": "stream",
     "text": [
      "WARNING:tensorflow:From E:\\Softwares\\Anaconda\\lib\\site-packages\\keras\\layers\\normalization.py:524: _colocate_with (from tensorflow.python.framework.ops) is deprecated and will be removed in a future version.\n",
      "Instructions for updating:\n",
      "Colocations handled automatically by placer.\n",
      "out = [0.        0.        1.3454674 2.0318177 0.        1.3246754]\n"
     ]
    }
   ],
   "source": [
    "tf.reset_default_graph()\n",
    "with tf.Session() as test:\n",
    "    np.random.seed(1)\n",
    "    A_prev = tf.placeholder(\"float\",[3,4,4,6])\n",
    "    X = np.random.randn(3,4,4,6)\n",
    "    A = identity_block(A_prev,f=2,filters=[2,4,6],stage=1,block=\"a\")\n",
    "    \n",
    "    test.run(tf.global_variables_initializer())\n",
    "    out = test.run([A],feed_dict={A_prev:X,K.learning_phase():0})\n",
    "    print(\"out = \" + str(out[0][1][1][0]))\n",
    "    \n",
    "    test.close()"
   ]
  },
  {
   "cell_type": "markdown",
   "id": "2be32a06",
   "metadata": {},
   "source": [
    "### 卷积块"
   ]
  },
  {
   "cell_type": "code",
   "execution_count": 11,
   "id": "75b92bbf",
   "metadata": {},
   "outputs": [],
   "source": [
    "def convolutional_block(X, f, filters, stage, block, s=2):\n",
    "    \"\"\"\n",
    "    实现卷积块\n",
    "    \n",
    "    参数：\n",
    "        X - 输入的tensor类型的变量，维度为( m, n_H_prev, n_W_prev, n_C_prev)\n",
    "        f - 整数，指定主路径中间的CONV窗口的维度\n",
    "        filters - 整数列表，定义了主路径每层的卷积层的过滤器数量\n",
    "        stage - 整数，根据每层的位置来命名每一层，与block参数一起使用。\n",
    "        block - 字符串，据每层的位置来命名每一层，与stage参数一起使用。\n",
    "        s - 整数，指定要使用的步幅\n",
    "    \n",
    "    返回：\n",
    "        X - 卷积块的输出，tensor类型，维度为(n_H, n_W, n_C)\n",
    "    \"\"\"\n",
    "    \n",
    "    #定义命名规则\n",
    "    conv_name_base = \"res\" + str(stage) + block + \"_branch\"\n",
    "    bn_name_base   = \"bn\"  + str(stage) + block + \"_branch\"\n",
    "    \n",
    "    #获取过滤器数量\n",
    "    F1, F2, F3 = filters\n",
    "    \n",
    "    #保存输入数据\n",
    "    X_shortcut = X\n",
    "    \n",
    "    #主路径\n",
    "    ##主路径第一部分\n",
    "    X = Conv2D(filters=F1, kernel_size=(1,1), strides=(s,s), padding=\"valid\",\n",
    "               name=conv_name_base+\"2a\", kernel_initializer=glorot_uniform(seed=0))(X)\n",
    "    X = BatchNormalization(axis=3,name=bn_name_base+\"2a\")(X)\n",
    "    X = Activation(\"relu\")(X)\n",
    "    \n",
    "    ##主路径第二部分\n",
    "    X = Conv2D(filters=F2, kernel_size=(f,f), strides=(1,1), padding=\"same\",\n",
    "               name=conv_name_base+\"2b\", kernel_initializer=glorot_uniform(seed=0))(X)\n",
    "    X = BatchNormalization(axis=3,name=bn_name_base+\"2b\")(X)\n",
    "    X = Activation(\"relu\")(X)\n",
    "    \n",
    "    ##主路径第三部分\n",
    "    X = Conv2D(filters=F3, kernel_size=(1,1), strides=(1,1), padding=\"valid\",\n",
    "               name=conv_name_base+\"2c\", kernel_initializer=glorot_uniform(seed=0))(X)\n",
    "    X = BatchNormalization(axis=3,name=bn_name_base+\"2c\")(X)\n",
    "    \n",
    "    #捷径\n",
    "    X_shortcut = Conv2D(filters=F3, kernel_size=(1,1), strides=(s,s), padding=\"valid\",\n",
    "               name=conv_name_base+\"1\", kernel_initializer=glorot_uniform(seed=0))(X_shortcut)\n",
    "    X_shortcut = BatchNormalization(axis=3,name=bn_name_base+\"1\")(X_shortcut)\n",
    "    \n",
    "    #最后一步\n",
    "    X = Add()([X,X_shortcut])\n",
    "    X = Activation(\"relu\")(X)\n",
    "    \n",
    "    return X"
   ]
  },
  {
   "cell_type": "code",
   "execution_count": 12,
   "id": "4c6627ee",
   "metadata": {},
   "outputs": [
    {
     "name": "stdout",
     "output_type": "stream",
     "text": [
      "out = [0.         0.         0.         0.8929655  0.         0.19882727]\n"
     ]
    }
   ],
   "source": [
    "tf.reset_default_graph()\n",
    "\n",
    "with tf.Session() as test:\n",
    "    np.random.seed(1)\n",
    "    A_prev = tf.placeholder(\"float\",[3,4,4,6])\n",
    "    X = np.random.randn(3,4,4,6)\n",
    "    \n",
    "    A = convolutional_block(A_prev,f=2,filters=[2,4,6],stage=1,block=\"a\")\n",
    "    test.run(tf.global_variables_initializer())\n",
    "    \n",
    "    out = test.run([A],feed_dict={A_prev:X,K.learning_phase():0})\n",
    "    print(\"out = \" + str(out[0][1][1][0]))\n",
    "    \n",
    "    test.close()"
   ]
  },
  {
   "cell_type": "markdown",
   "id": "2869f1f1",
   "metadata": {},
   "source": [
    "### 构建残差网络"
   ]
  },
  {
   "cell_type": "code",
   "execution_count": 13,
   "id": "539be6d1",
   "metadata": {},
   "outputs": [],
   "source": [
    "def ResNet50(input_shape=(64,64,3),classes=6):\n",
    "    \"\"\"\n",
    "    实现ResNet50\n",
    "    CONV2D -> BATCHNORM -> RELU -> MAXPOOL -> CONVBLOCK -> IDBLOCK*2 -> CONVBLOCK -> IDBLOCK*3\n",
    "    -> CONVBLOCK -> IDBLOCK*5 -> CONVBLOCK -> IDBLOCK*2 -> AVGPOOL -> TOPLAYER\n",
    "    \n",
    "    参数：\n",
    "        input_shape - 图像数据集的维度\n",
    "        classes - 整数，分类数\n",
    "        \n",
    "    返回：\n",
    "        model - Keras框架的模型\n",
    "        \n",
    "    \"\"\"\n",
    "    \n",
    "    #定义tensor类型的输入数据\n",
    "    X_input = Input(input_shape)\n",
    "    \n",
    "    #0填充\n",
    "    X = ZeroPadding2D((3,3))(X_input)\n",
    "    \n",
    "    #stage1\n",
    "    X = Conv2D(filters=64, kernel_size=(7,7), strides=(2,2), name=\"conv1\",\n",
    "               kernel_initializer=glorot_uniform(seed=0))(X)\n",
    "    X = BatchNormalization(axis=3, name=\"bn_conv1\")(X)\n",
    "    X = Activation(\"relu\")(X)\n",
    "    X = MaxPooling2D(pool_size=(3,3), strides=(2,2))(X)\n",
    "    \n",
    "    #stage2\n",
    "    X = convolutional_block(X, f=3, filters=[64,64,256], stage=2, block=\"a\", s=1)\n",
    "    X = identity_block(X, f=3, filters=[64,64,256], stage=2, block=\"b\")\n",
    "    X = identity_block(X, f=3, filters=[64,64,256], stage=2, block=\"c\")\n",
    "    \n",
    "    #stage3\n",
    "    X = convolutional_block(X, f=3, filters=[128,128,512], stage=3, block=\"a\", s=2)\n",
    "    X = identity_block(X, f=3, filters=[128,128,512], stage=3, block=\"b\")\n",
    "    X = identity_block(X, f=3, filters=[128,128,512], stage=3, block=\"c\")\n",
    "    X = identity_block(X, f=3, filters=[128,128,512], stage=3, block=\"d\")\n",
    "    \n",
    "    #stage4\n",
    "    X = convolutional_block(X, f=3, filters=[256,256,1024], stage=4, block=\"a\", s=2)\n",
    "    X = identity_block(X, f=3, filters=[256,256,1024], stage=4, block=\"b\")\n",
    "    X = identity_block(X, f=3, filters=[256,256,1024], stage=4, block=\"c\")\n",
    "    X = identity_block(X, f=3, filters=[256,256,1024], stage=4, block=\"d\")\n",
    "    X = identity_block(X, f=3, filters=[256,256,1024], stage=4, block=\"e\")\n",
    "    X = identity_block(X, f=3, filters=[256,256,1024], stage=4, block=\"f\")\n",
    "    \n",
    "    #stage5\n",
    "    X = convolutional_block(X, f=3, filters=[512,512,2048], stage=5, block=\"a\", s=2)\n",
    "    X = identity_block(X, f=3, filters=[512,512,2048], stage=5, block=\"b\")\n",
    "    X = identity_block(X, f=3, filters=[512,512,2048], stage=5, block=\"c\")\n",
    "    \n",
    "    #均值池化层\n",
    "    X = AveragePooling2D(pool_size=(2,2),padding=\"same\")(X)\n",
    "    \n",
    "    #输出层\n",
    "    X = Flatten()(X)\n",
    "    X = Dense(classes, activation=\"softmax\", name=\"fc\"+str(classes),\n",
    "              kernel_initializer=glorot_uniform(seed=0))(X)\n",
    "    \n",
    "    \n",
    "    #创建模型\n",
    "    model = Model(inputs=X_input, outputs=X, name=\"ResNet50\")\n",
    "    \n",
    "    return model"
   ]
  },
  {
   "cell_type": "code",
   "execution_count": 14,
   "id": "db42a2af",
   "metadata": {},
   "outputs": [],
   "source": [
    "model = ResNet50(input_shape=(64,64,3),classes=6)\n",
    "model.compile(optimizer=\"adam\", loss=\"categorical_crossentropy\", metrics=[\"accuracy\"])"
   ]
  },
  {
   "cell_type": "code",
   "execution_count": 16,
   "id": "b84bcb75",
   "metadata": {},
   "outputs": [
    {
     "name": "stdout",
     "output_type": "stream",
     "text": [
      "number of training examples = 1080\n",
      "number of test examples = 120\n",
      "X_train shape: (1080, 64, 64, 3)\n",
      "Y_train shape: (1080, 6)\n",
      "X_test shape: (120, 64, 64, 3)\n",
      "Y_test shape: (120, 6)\n"
     ]
    }
   ],
   "source": [
    "X_train_orig, Y_train_orig, X_test_orig, Y_test_orig, classes = resnets_utils.load_dataset()\n",
    "\n",
    "# Normalize image vectors\n",
    "X_train = X_train_orig / 255.\n",
    "X_test = X_test_orig / 255.\n",
    "\n",
    "# Convert training and test labels to one hot matrices\n",
    "Y_train = resnets_utils.convert_to_one_hot(Y_train_orig, 6).T\n",
    "Y_test = resnets_utils.convert_to_one_hot(Y_test_orig, 6).T\n",
    "\n",
    "print(\"number of training examples = \" + str(X_train.shape[0]))\n",
    "print(\"number of test examples = \" + str(X_test.shape[0]))\n",
    "print(\"X_train shape: \" + str(X_train.shape))\n",
    "print(\"Y_train shape: \" + str(Y_train.shape))\n",
    "print(\"X_test shape: \" + str(X_test.shape))\n",
    "print(\"Y_test shape: \" + str(Y_test.shape))"
   ]
  },
  {
   "cell_type": "code",
   "execution_count": 17,
   "id": "c1185d59",
   "metadata": {},
   "outputs": [
    {
     "name": "stdout",
     "output_type": "stream",
     "text": [
      "Train on 1080 samples\n",
      "Epoch 1/2\n",
      "1080/1080 [==============================] - 49s 46ms/sample - loss: 2.4300 - accuracy: 0.4435\n",
      "Epoch 2/2\n",
      "1080/1080 [==============================] - 46s 42ms/sample - loss: 1.3149 - accuracy: 0.6370\n"
     ]
    },
    {
     "data": {
      "text/plain": [
       "<keras.callbacks.History at 0x1ab2e1b2e08>"
      ]
     },
     "execution_count": 17,
     "metadata": {},
     "output_type": "execute_result"
    }
   ],
   "source": [
    "model.fit(X_train,Y_train,epochs=2,batch_size=32)"
   ]
  },
  {
   "cell_type": "code",
   "execution_count": 18,
   "id": "02462e96",
   "metadata": {},
   "outputs": [
    {
     "name": "stderr",
     "output_type": "stream",
     "text": [
      "E:\\Softwares\\Anaconda\\lib\\site-packages\\keras\\engine\\training.py:2401: UserWarning: `Model.state_updates` will be removed in a future version. This property should not be used in TensorFlow 2.0, as `updates` are applied automatically.\n",
      "  warnings.warn('`Model.state_updates` will be removed in a future version. '\n"
     ]
    },
    {
     "name": "stdout",
     "output_type": "stream",
     "text": [
      "误差值 = 3.400751733779907\n",
      "准确率 = 0.16666667\n"
     ]
    }
   ],
   "source": [
    "preds = model.evaluate(X_test,Y_test)\n",
    "\n",
    "print(\"误差值 = \" + str(preds[0]))\n",
    "print(\"准确率 = \" + str(preds[1]))"
   ]
  },
  {
   "cell_type": "code",
   "execution_count": null,
   "id": "05358602",
   "metadata": {},
   "outputs": [],
   "source": []
  }
 ],
 "metadata": {
  "kernelspec": {
   "display_name": "Python 3",
   "language": "python",
   "name": "python3"
  },
  "language_info": {
   "codemirror_mode": {
    "name": "ipython",
    "version": 3
   },
   "file_extension": ".py",
   "mimetype": "text/x-python",
   "name": "python",
   "nbconvert_exporter": "python",
   "pygments_lexer": "ipython3",
   "version": "3.7.6"
  }
 },
 "nbformat": 4,
 "nbformat_minor": 5
}
